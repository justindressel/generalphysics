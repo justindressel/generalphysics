{
 "cells": [
  {
   "cell_type": "markdown",
   "metadata": {},
   "source": [
    "# Conservation and Exchange\n",
    "\n",
    "## Energy-momentum\n",
    "\n",
    "## Collisions\n",
    "\n",
    "## Internal Energy\n",
    "\n",
    "## Background Potential Fields\n",
    "\n",
    "## Oscillations\n",
    "\n",
    "## Angular Momentum \n",
    "\n",
    "## Rotations"
   ]
  }
 ],
 "metadata": {
  "jupytext": {
   "cell_metadata_filter": "-all",
   "formats": "md:myst,ipynb"
  },
  "kernelspec": {
   "display_name": "Python 3",
   "language": "python",
   "name": "python3"
  }
 },
 "nbformat": 4,
 "nbformat_minor": 4
}
