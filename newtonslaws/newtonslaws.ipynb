{
 "cells": [
  {
   "cell_type": "markdown",
   "metadata": {},
   "source": [
    "# Newtonian Mechanics\n",
    "\n",
    "## Power, Force, and Torque\n",
    "\n",
    "## Newton's Laws of Motion\n",
    "\n",
    "## Statics\n",
    "\n",
    "## Linear Motion and Inertia\n",
    "\n",
    "## Projectile Motion\n",
    "\n",
    "## Constraints\n",
    "\n",
    "## Rotational Motion and Inertia\n",
    "\n",
    "## Coupled Motions\n",
    "\n",
    "## Non-inertial Frames\n",
    "\n",
    "## Central Forces"
   ]
  }
 ],
 "metadata": {
  "jupytext": {
   "cell_metadata_filter": "-all",
   "formats": "md:myst,ipynb"
  },
  "kernelspec": {
   "display_name": "Python 3",
   "language": "python",
   "name": "python3"
  }
 },
 "nbformat": 4,
 "nbformat_minor": 4
}
