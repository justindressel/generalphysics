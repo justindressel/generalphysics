{
 "cells": [
  {
   "cell_type": "markdown",
   "metadata": {},
   "source": [
    "# Einsteinian Mechanics\n",
    "\n",
    "## Inertial Reference Frames\n",
    "\n",
    "## Invariant Spacetime Interval\n",
    "\n",
    "## Algebra of Spacetime\n",
    "\n",
    "## Length Contraction\n",
    "\n",
    "## Time Dilation\n",
    "\n",
    "## Lightcone and Causality\n",
    "\n",
    "## Lorentz Transformations\n",
    "\n",
    "## Proper Kinematics\n",
    "\n",
    "## Proper Particle Dynamics\n",
    "\n",
    "## Continuous Fields"
   ]
  }
 ],
 "metadata": {
  "jupytext": {
   "cell_metadata_filter": "-all",
   "formats": "md:myst,ipynb"
  },
  "kernelspec": {
   "display_name": "Python 3",
   "language": "python",
   "name": "python3"
  }
 },
 "nbformat": 4,
 "nbformat_minor": 4
}
