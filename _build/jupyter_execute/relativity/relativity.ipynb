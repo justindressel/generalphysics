{
 "cells": [
  {
   "cell_type": "markdown",
   "metadata": {},
   "source": [
    "# Einsteinian Mechanics\n",
    "\n",
    "## Inertial Reference Frames\n",
    "\n",
    "## Invariant Spacetime Interval\n",
    "\n",
    "## Algebra of Spacetime\n",
    "\n",
    "## Length Contraction\n",
    "\n",
    "## Time Dilation\n",
    "\n",
    "## Lightcone and Causality\n",
    "\n",
    "## Lorentz Transformations\n",
    "\n",
    "## Proper Kinematics\n",
    "\n",
    "## Proper Particle Dynamics\n",
    "\n",
    "## Continuous Fields"
   ]
  }
 ],
 "metadata": {
  "jupytext": {
   "cell_metadata_filter": "-all",
   "formats": "md:myst,ipynb",
   "text_representation": {
    "extension": ".md",
    "format_name": "myst",
    "format_version": 0.12,
    "jupytext_version": "1.7.1"
   }
  },
  "kernelspec": {
   "display_name": "Python 3",
   "language": "python",
   "name": "python3"
  },
  "language_info": {
   "codemirror_mode": {
    "name": "ipython",
    "version": 3
   },
   "file_extension": ".py",
   "mimetype": "text/x-python",
   "name": "python",
   "nbconvert_exporter": "python",
   "pygments_lexer": "ipython3",
   "version": "3.7.8"
  },
  "source_map": [
   14
  ]
 },
 "nbformat": 4,
 "nbformat_minor": 4
}