{
 "cells": [
  {
   "cell_type": "markdown",
   "metadata": {},
   "source": [
    "# Physical Principles\n",
    "\n",
    "\n",
    "## Geometry, Spacetime, and Motion\n",
    "\n",
    "\n",
    "## Reference Frames and Proper Objects\n",
    "\n",
    "\n",
    "## Conserved Quantities from Symmetry\n",
    "\n",
    "\n",
    "### Spacetime Translation and Energy-momentum\n",
    "\n",
    "\n",
    "### Spatial Rotation and Orbital Angular Momentum\n",
    "\n",
    "\n",
    "### Boost Acceleration and Boost Angular Momentum\n",
    "\n",
    "\n",
    "### Translation + Rotation and Spin Angular Momentum\n",
    "\n",
    "\n",
    "## Invariants as Particle Labels\n",
    "\n",
    "\n",
    "## Physical Action\n",
    "\n",
    "\n",
    "### Costs of Motion and Symmetries\n",
    "\n",
    "\n",
    "### Stationary Cost and Conservation\n",
    "\n",
    "\n",
    "### Dynamics from Stationary Cost"
   ]
  },
  {
   "cell_type": "code",
   "execution_count": null,
   "metadata": {},
   "outputs": [],
   "source": []
  }
 ],
 "metadata": {
  "jupytext": {
   "formats": "ipynb,md:myst",
   "hide_notebook_metadata": true,
   "split_at_heading": true,
   "text_representation": {
    "extension": ".md",
    "format_name": "myst",
    "format_version": 0.12,
    "jupytext_version": "1.7.1"
   }
  },
  "kernelspec": {
   "display_name": "Python 3",
   "language": "python",
   "name": "python3"
  },
  "language_info": {
   "codemirror_mode": {
    "name": "ipython",
    "version": 3
   },
   "file_extension": ".py",
   "mimetype": "text/x-python",
   "name": "python",
   "nbconvert_exporter": "python",
   "pygments_lexer": "ipython3",
   "version": "3.7.8"
  },
  "source_map": [
   15,
   56
  ]
 },
 "nbformat": 4,
 "nbformat_minor": 4
}