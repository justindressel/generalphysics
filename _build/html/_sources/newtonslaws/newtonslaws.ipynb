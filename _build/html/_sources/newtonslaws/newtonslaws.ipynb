{
 "cells": [
  {
   "cell_type": "markdown",
   "metadata": {},
   "source": [
    "# Newtonian Mechanics\n",
    "\n",
    "## Power, Force, and Torque\n",
    "\n",
    "## Newton's Laws of Motion\n",
    "\n",
    "## Statics\n",
    "\n",
    "## Linear and Projectile Motion\n",
    "\n",
    "## Constraints\n",
    "\n",
    "## Coupled Motions\n",
    "\n",
    "## Non-inertial Frames\n",
    "\n",
    "## Central Forces"
   ]
  }
 ],
 "metadata": {
  "jupytext": {
   "cell_metadata_filter": "-all",
   "formats": "md:myst,ipynb",
   "text_representation": {
    "extension": ".md",
    "format_name": "myst",
    "format_version": 0.12,
    "jupytext_version": "1.7.1"
   }
  },
  "kernelspec": {
   "display_name": "Python 3",
   "language": "python",
   "name": "python3"
  },
  "language_info": {
   "codemirror_mode": {
    "name": "ipython",
    "version": 3
   },
   "file_extension": ".py",
   "mimetype": "text/x-python",
   "name": "python",
   "nbconvert_exporter": "python",
   "pygments_lexer": "ipython3",
   "version": "3.7.8"
  },
  "source_map": [
   14
  ]
 },
 "nbformat": 4,
 "nbformat_minor": 4
}