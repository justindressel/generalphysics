{
 "cells": [
  {
   "cell_type": "markdown",
   "metadata": {},
   "source": [
    "# Fundamental Concepts\n",
    "\n",
    "## Modeling\n",
    "\n",
    "## Measurement and Precision\n",
    "\n",
    "## Map of Physics\n",
    "\n",
    "## The Standard Model\n",
    "\n",
    "## Stable Elements and the Periodic Table\n",
    "\n",
    "## Atoms, Molecules, and Materials\n",
    "    \n",
    "## Classical Particles and Fields\n",
    "\n",
    "## Action as Cost Optimization\n",
    "\n",
    "## Symmetry and Conservation Laws"
   ]
  }
 ],
 "metadata": {
  "jupytext": {
   "cell_metadata_filter": "-all",
   "formats": "md:myst,ipynb",
   "text_representation": {
    "extension": ".md",
    "format_name": "myst",
    "format_version": 0.12,
    "jupytext_version": "1.7.1"
   }
  },
  "kernelspec": {
   "display_name": "Python 3",
   "language": "python",
   "name": "python3"
  },
  "language_info": {
   "codemirror_mode": {
    "name": "ipython",
    "version": 3
   },
   "file_extension": ".py",
   "mimetype": "text/x-python",
   "name": "python",
   "nbconvert_exporter": "python",
   "pygments_lexer": "ipython3",
   "version": "3.7.8"
  },
  "source_map": [
   14
  ]
 },
 "nbformat": 4,
 "nbformat_minor": 4
}