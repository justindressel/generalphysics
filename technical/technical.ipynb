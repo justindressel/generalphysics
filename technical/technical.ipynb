{
 "cells": [
  {
   "cell_type": "markdown",
   "metadata": {},
   "source": [
    "# Mathematics as Formal Language \n",
    "\n",
    "## Symbols, Algebra, and Units\n",
    "\n",
    "## Equations and Inequalities\n",
    "\n",
    "## Functions and Graphs\n",
    "\n",
    "## Vector Geometry\n",
    "\n",
    "## Vector Algebra\n",
    "\n",
    "## Vector Calculus\n",
    "\n",
    "## Approximation Methods\n",
    "\n",
    "## Error Propagation"
   ]
  }
 ],
 "metadata": {
  "jupytext": {
   "cell_metadata_filter": "-all",
   "formats": "md:myst,ipynb"
  },
  "kernelspec": {
   "display_name": "Python 3",
   "language": "python",
   "name": "python3"
  }
 },
 "nbformat": 4,
 "nbformat_minor": 4
}
