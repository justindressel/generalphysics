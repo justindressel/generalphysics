{
 "cells": [
  {
   "cell_type": "markdown",
   "metadata": {},
   "source": [
    "# Mathematics as Formal Language \n",
    "\n",
    "In introductory physics we will regularly use **algebra**, **trigonometry**, **geometry**, and **calculus** to describe physical law precisely and solve problems rigorously. You will need to remember all of these intersecting mathematical topics and be able to use them with mastery. This supplementary section is designed to help you review these topics to make sure that you have an adequate background before tackling quantitative formulations of the core physical ideas. Mastery will follow from practice.\n",
    "\n",
    "Later physics courses will add more advanced mathematical tools that build upon the basics, such as differential equations, complex analysis, probability theory, differential geometry, variational calculus, functional analysis, topology, and beyond. These more advanced mathematical tools and their associated computational extensions form the backbone of any rigorous modeling discipline.\n",
    "\n",
    "## Symbols, Algebra, and Units\n",
    "\n",
    "## Equations and Inequalities\n",
    "\n",
    "## Functions and Graphs\n",
    "\n",
    "## Vector Geometry\n",
    "\n",
    "## Vector Algebra\n",
    "\n",
    "## Vector Calculus\n",
    "\n",
    "## Approximation Methods\n",
    "\n",
    "## Error Propagation"
   ]
  }
 ],
 "metadata": {
  "jupytext": {
   "formats": "ipynb,md:myst",
   "hide_notebook_metadata": true,
   "split_at_heading": true
  },
  "kernelspec": {
   "display_name": "Python 3",
   "language": "python",
   "name": "python3"
  },
  "language_info": {
   "codemirror_mode": {
    "name": "ipython",
    "version": 3
   },
   "file_extension": ".py",
   "mimetype": "text/x-python",
   "name": "python",
   "nbconvert_exporter": "python",
   "pygments_lexer": "ipython3",
   "version": "3.7.8"
  }
 },
 "nbformat": 4,
 "nbformat_minor": 4
}
