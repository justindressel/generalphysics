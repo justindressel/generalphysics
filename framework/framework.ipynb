{
 "cells": [
  {
   "cell_type": "markdown",
   "metadata": {},
   "source": [
    "# Describing Motion and its Causes\n",
    "\n",
    "## Kinematics\n",
    "\n",
    "## The Cost of Action\n",
    "\n",
    "## Dynamics\n",
    "\n",
    "## Reference Frames\n",
    "\n",
    "## Symmetries \n",
    "\n",
    "## Invariants\n",
    "\n",
    "## Conserved Quantities"
   ]
  }
 ],
 "metadata": {
  "jupytext": {
   "cell_metadata_filter": "-all",
   "formats": "md:myst,ipynb"
  },
  "kernelspec": {
   "display_name": "Python 3",
   "language": "python",
   "name": "python3"
  }
 },
 "nbformat": 4,
 "nbformat_minor": 4
}
