{
 "cells": [
  {
   "cell_type": "markdown",
   "metadata": {},
   "source": [
    "# Describing Motion and its Causes\n",
    "\n",
    "## Kinematics\n",
    "\n",
    "## Symmetries \n",
    "\n",
    "## The Cost of Action\n",
    "\n",
    "## Conserved Quantities\n",
    "\n",
    "## Invariants\n",
    "\n",
    "## Dynamics\n",
    "\n",
    "## Reference Frames"
   ]
  }
 ],
 "metadata": {
  "jupytext": {
   "cell_metadata_filter": "-all",
   "formats": "md:myst,ipynb"
  },
  "kernelspec": {
   "display_name": "Python 3",
   "language": "python",
   "name": "python3"
  }
 },
 "nbformat": 4,
 "nbformat_minor": 4
}
